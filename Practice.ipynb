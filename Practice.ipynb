{
  "nbformat": 4,
  "nbformat_minor": 0,
  "metadata": {
    "colab": {
      "provenance": [],
      "authorship_tag": "ABX9TyM1TiZEqtyjrk9XOR5cXYLA",
      "include_colab_link": true
    },
    "kernelspec": {
      "name": "python3",
      "display_name": "Python 3"
    },
    "language_info": {
      "name": "python"
    }
  },
  "cells": [
    {
      "cell_type": "markdown",
      "metadata": {
        "id": "view-in-github",
        "colab_type": "text"
      },
      "source": [
        "<a href=\"https://colab.research.google.com/github/Priyabrata-M-D/Data-Science/blob/main/Practice.ipynb\" target=\"_parent\"><img src=\"https://colab.research.google.com/assets/colab-badge.svg\" alt=\"Open In Colab\"/></a>"
      ]
    },
    {
      "cell_type": "code",
      "execution_count": null,
      "metadata": {
        "colab": {
          "base_uri": "https://localhost:8080/"
        },
        "id": "PyJxmVIm7EYJ",
        "outputId": "363ef622-ebe3-470f-c1d1-03ece3a3cba4"
      },
      "outputs": [
        {
          "output_type": "stream",
          "name": "stdout",
          "text": [
            "123456\n",
            "1 2 3 4 5 6\n"
          ]
        }
      ],
      "source": [
        "L=input()\n",
        "print(*L.strip())"
      ]
    },
    {
      "cell_type": "code",
      "source": [
        "A=float(input())\n",
        "if A < 0:\n",
        "    print(\"Error\")\n",
        "else:\n",
        "    C=2*(3.14159)*A\n",
        "    print(\"%.2f\" %C)"
      ],
      "metadata": {
        "colab": {
          "base_uri": "https://localhost:8080/"
        },
        "id": "N-VEONUk1vAQ",
        "outputId": "cf4dad88-e82f-401f-afaa-9815d0adf1c6"
      },
      "execution_count": null,
      "outputs": [
        {
          "output_type": "stream",
          "name": "stdout",
          "text": [
            "0.1\n",
            "0.63\n"
          ]
        }
      ]
    },
    {
      "cell_type": "code",
      "source": [
        "import cmath\n",
        "a=int(input())\n",
        "b=int(input())\n",
        "c=int(input())\n",
        "k=(b**2)-(4*a*c)\n",
        "x1=(-b-cmath.sqrt(k))/(2*a)\n",
        "x2=(-b+cmath.sqrt(k))/(2*a)\n",
        "print('{0}{1}'.format(x1,x2))"
      ],
      "metadata": {
        "id": "C2dhwDDF29ee"
      },
      "execution_count": null,
      "outputs": []
    },
    {
      "cell_type": "code",
      "source": [
        "import math\n",
        "a,b,c=input().split()\n",
        "print()\n",
        "k=(b*b)-(4*a*c)\n",
        "m=math.sqrt(k)\n",
        "x1=(-b-m)/(2*a)\n",
        "x2=(-b+m)/(2*a)\n",
        "print(\"%0.2f\"%x1)\n",
        "print(\"%0.2f\"%x2)"
      ],
      "metadata": {
        "colab": {
          "base_uri": "https://localhost:8080/",
          "height": 269
        },
        "id": "CkjsJK74_TYd",
        "outputId": "de0d878d-10ee-4337-8a22-e049620ddf8e"
      },
      "execution_count": null,
      "outputs": [
        {
          "output_type": "stream",
          "name": "stdout",
          "text": [
            "1 5 6\n",
            "\n"
          ]
        },
        {
          "output_type": "error",
          "ename": "TypeError",
          "evalue": "ignored",
          "traceback": [
            "\u001b[0;31m---------------------------------------------------------------------------\u001b[0m",
            "\u001b[0;31mTypeError\u001b[0m                                 Traceback (most recent call last)",
            "\u001b[0;32m<ipython-input-52-1a6ad584a6c7>\u001b[0m in \u001b[0;36m<module>\u001b[0;34m\u001b[0m\n\u001b[1;32m      2\u001b[0m \u001b[0ma\u001b[0m\u001b[0;34m,\u001b[0m\u001b[0mb\u001b[0m\u001b[0;34m,\u001b[0m\u001b[0mc\u001b[0m\u001b[0;34m=\u001b[0m\u001b[0minput\u001b[0m\u001b[0;34m(\u001b[0m\u001b[0;34m)\u001b[0m\u001b[0;34m.\u001b[0m\u001b[0msplit\u001b[0m\u001b[0;34m(\u001b[0m\u001b[0;34m)\u001b[0m\u001b[0;34m\u001b[0m\u001b[0;34m\u001b[0m\u001b[0m\n\u001b[1;32m      3\u001b[0m \u001b[0mprint\u001b[0m\u001b[0;34m(\u001b[0m\u001b[0;34m)\u001b[0m\u001b[0;34m\u001b[0m\u001b[0;34m\u001b[0m\u001b[0m\n\u001b[0;32m----> 4\u001b[0;31m \u001b[0mk\u001b[0m\u001b[0;34m=\u001b[0m\u001b[0;34m(\u001b[0m\u001b[0mb\u001b[0m\u001b[0;34m*\u001b[0m\u001b[0mb\u001b[0m\u001b[0;34m)\u001b[0m\u001b[0;34m-\u001b[0m\u001b[0;34m(\u001b[0m\u001b[0;36m4\u001b[0m\u001b[0;34m*\u001b[0m\u001b[0ma\u001b[0m\u001b[0;34m*\u001b[0m\u001b[0mc\u001b[0m\u001b[0;34m)\u001b[0m\u001b[0;34m\u001b[0m\u001b[0;34m\u001b[0m\u001b[0m\n\u001b[0m\u001b[1;32m      5\u001b[0m \u001b[0mm\u001b[0m\u001b[0;34m=\u001b[0m\u001b[0mmath\u001b[0m\u001b[0;34m.\u001b[0m\u001b[0msqrt\u001b[0m\u001b[0;34m(\u001b[0m\u001b[0mk\u001b[0m\u001b[0;34m)\u001b[0m\u001b[0;34m\u001b[0m\u001b[0;34m\u001b[0m\u001b[0m\n\u001b[1;32m      6\u001b[0m \u001b[0mx1\u001b[0m\u001b[0;34m=\u001b[0m\u001b[0;34m(\u001b[0m\u001b[0;34m-\u001b[0m\u001b[0mb\u001b[0m\u001b[0;34m-\u001b[0m\u001b[0mm\u001b[0m\u001b[0;34m)\u001b[0m\u001b[0;34m/\u001b[0m\u001b[0;34m(\u001b[0m\u001b[0;36m2\u001b[0m\u001b[0;34m*\u001b[0m\u001b[0ma\u001b[0m\u001b[0;34m)\u001b[0m\u001b[0;34m\u001b[0m\u001b[0;34m\u001b[0m\u001b[0m\n",
            "\u001b[0;31mTypeError\u001b[0m: can't multiply sequence by non-int of type 'str'"
          ]
        }
      ]
    },
    {
      "cell_type": "code",
      "source": [
        "import math\n",
        "def equationroots( a, b, c):\n",
        "  dis = b * b - 4 * a * c \n",
        "  sqrt_val = math.sqrt(abs(dis))\n",
        "  if dis > 0:\n",
        "    print(\" real and different roots \")\n",
        "    print((-b + sqrt_val)/(2 * a))\n",
        "    print((-b - sqrt_val)/(2 * a))\n",
        "  elif dis == 0:\n",
        "    print(\" real and same roots\")\n",
        "    print(-b / (2 * a))\n",
        "  else:\n",
        "    print(\"Complex Roots\")\n",
        "    print(- b / (2 * a), \" + i\", sqrt_val)\n",
        "    print(- b / (2 * a), \" - i\", sqrt_val) \n",
        "a = int(input('Enter a:'))  \n",
        "b = int(input('Enter b:'))  \n",
        "c = int(input('Enter c:'))\n",
        "if a == 0:\n",
        "  print(\"Input correct quadratic equation\")  \n",
        "else:\n",
        "  equationroots( a, b, c) "
      ],
      "metadata": {
        "colab": {
          "base_uri": "https://localhost:8080/"
        },
        "id": "KkRkLUcpDUgh",
        "outputId": "e984db85-4a73-4a3d-c774-c51fdac23737"
      },
      "execution_count": null,
      "outputs": [
        {
          "output_type": "stream",
          "name": "stdout",
          "text": [
            "Enter a:2\n",
            "Enter b:3\n",
            "Enter c:5\n",
            "Complex Roots\n",
            "-0.75  + i 5.5677643628300215\n",
            "-0.75  - i 5.5677643628300215\n"
          ]
        }
      ]
    },
    {
      "cell_type": "code",
      "source": [
        "x, y, z = input(\"Enter three values: \").split()  \n",
        "print(\"Total number of students: \", x)  \n",
        "print(\"Number of passed student : \", y)  \n",
        "print(\"Number of failed student : \", z)  \n",
        "print(type(x))"
      ],
      "metadata": {
        "colab": {
          "base_uri": "https://localhost:8080/"
        },
        "id": "HlzXavehE-Yr",
        "outputId": "09f1d033-1e5d-4ae8-bfe1-43fabc7911ab"
      },
      "execution_count": null,
      "outputs": [
        {
          "output_type": "stream",
          "name": "stdout",
          "text": [
            "Enter three values: 1 2 3 \n",
            "Total number of students:  1\n",
            "Number of passed student :  2\n",
            "Number of failed student :  3\n",
            "<class 'str'>\n"
          ]
        }
      ]
    },
    {
      "cell_type": "code",
      "source": [
        "Stdnt={'roll':[1,2,3,4,5,6,7,8],\n",
        "    'Name':['hari','ram','gopal','shiva','bali','sita','laxmi','hima'],\n",
        "       'mth':[60,80,77,90,50,72,45,66],\n",
        "       'sc':[50,90,85,77,46,85,66,49],\n",
        "       'scl':[85,90,77,86,59,71,55,48],\n",
        "       'engl':[70,88,96,77,45,88,89,99],\n",
        "       'cs':[45,58,55,65,77,78,72,99]\n",
        "}\n"
      ],
      "metadata": {
        "id": "0VUWIKDxV4pc"
      },
      "execution_count": null,
      "outputs": []
    },
    {
      "cell_type": "code",
      "source": [
        "s=int(input(\"Enter your Roll: \"))\n",
        "p=Stdnt['roll'].index(s)\n",
        "print(\"Name : \",Stdnt['Name'][p],\"** Roll :\",Stdnt['roll'][p])\n",
        "print(\"Marks in Math : \",Stdnt['mth'][p])\n",
        "print(\"Marks in Science : \",Stdnt['sc'][p])\n",
        "print(\"Marks in Social : \",Stdnt['scl'][p])\n",
        "print(\"Marks in English : \",Stdnt['engl'][p])\n",
        "print(\"Marks in Computer Science : \",Stdnt['cs'][p])"
      ],
      "metadata": {
        "colab": {
          "base_uri": "https://localhost:8080/"
        },
        "id": "zVTgjAEZYLQc",
        "outputId": "b7f7e953-011c-4ff0-e920-0fa245b46f28"
      },
      "execution_count": null,
      "outputs": [
        {
          "output_type": "stream",
          "name": "stdout",
          "text": [
            "Enter your Roll: 8\n",
            "Name :  hima ** Roll : 8\n",
            "Marks in Math :  66\n",
            "Marks in Science :  49\n",
            "Marks in Social :  48\n",
            "Marks in English :  99\n",
            "Marks in Computer Science :  99\n"
          ]
        }
      ]
    },
    {
      "cell_type": "code",
      "source": [
        "a=input()\n",
        "print(a)"
      ],
      "metadata": {
        "colab": {
          "base_uri": "https://localhost:8080/"
        },
        "id": "SOax4f5-t8Vw",
        "outputId": "9b04d631-3fd2-4ebb-ef75-e3ab89abf66b"
      },
      "execution_count": null,
      "outputs": [
        {
          "output_type": "stream",
          "name": "stdout",
          "text": [
            "1 2 3 4 5 6 7 8 9 10\n",
            "1 2 3 4 5 6 7 8 9 10\n"
          ]
        }
      ]
    },
    {
      "cell_type": "code",
      "source": [
        "A=input().split(' ')\n",
        "B=list(map(int,A))\n",
        "C={*A}\n",
        "print(*B)\n"
      ],
      "metadata": {
        "colab": {
          "base_uri": "https://localhost:8080/"
        },
        "id": "jLVIN2zzXhdV",
        "outputId": "826271bf-f924-4a2d-c5f3-5baeac6fa5fb"
      },
      "execution_count": null,
      "outputs": [
        {
          "output_type": "stream",
          "name": "stdout",
          "text": [
            "1 2 3 4 5 6 7\n",
            "1 2 3 4 5 6 7\n"
          ]
        }
      ]
    },
    {
      "cell_type": "code",
      "source": [
        "a=input().split(' ')\n",
        "b=input().split(' ')\n",
        "c=input().split(' ')\n",
        "x=list(map(int,a))\n",
        "y=list(map(int,b))\n",
        "z=list(map(int,c))\n",
        "print(*x)\n",
        "print(*y)\n",
        "print(*z)"
      ],
      "metadata": {
        "id": "B6cjRlusXw53",
        "colab": {
          "base_uri": "https://localhost:8080/"
        },
        "outputId": "3fe70b5b-d5f8-417e-ecc2-433460ae0732"
      },
      "execution_count": null,
      "outputs": [
        {
          "output_type": "stream",
          "name": "stdout",
          "text": [
            "2 4\n",
            "2 4\n",
            "2 4\n",
            "2 4\n",
            "2 4\n",
            "2 4\n"
          ]
        }
      ]
    },
    {
      "cell_type": "code",
      "source": [
        "a=int(input())\n",
        "b=int(input())\n",
        "c=int(input())\n",
        "D=[]\n",
        "D.append(a)\n",
        "D.append(b)\n",
        "D.append(c)\n",
        "print(*D)"
      ],
      "metadata": {
        "colab": {
          "base_uri": "https://localhost:8080/"
        },
        "id": "1HQ8knfStgyP",
        "outputId": "818651cc-7a99-407a-f0e0-52dd746a0baf"
      },
      "execution_count": null,
      "outputs": [
        {
          "output_type": "stream",
          "name": "stdout",
          "text": [
            "2\n",
            "3\n",
            "4\n",
            "2 3 4\n"
          ]
        }
      ]
    },
    {
      "cell_type": "code",
      "source": [
        "a=input()\n",
        "print(' '.join(a))"
      ],
      "metadata": {
        "colab": {
          "base_uri": "https://localhost:8080/"
        },
        "id": "mEf3glB8w5qY",
        "outputId": "27f7bc9d-797a-4bdc-ca2a-978a111949d8"
      },
      "execution_count": null,
      "outputs": [
        {
          "output_type": "stream",
          "name": "stdout",
          "text": [
            "guvi\n",
            "g u v i\n"
          ]
        }
      ]
    },
    {
      "cell_type": "code",
      "source": [
        "a=input().split(' ')\n",
        "b=list(map(float,a))\n",
        "for i in b:\n",
        "  print(i)"
      ],
      "metadata": {
        "colab": {
          "base_uri": "https://localhost:8080/"
        },
        "id": "u_TXKty7xuSV",
        "outputId": "2f6aadd8-d1c3-4a5d-8f7b-40ae93712900"
      },
      "execution_count": null,
      "outputs": [
        {
          "output_type": "stream",
          "name": "stdout",
          "text": [
            "guvigeek\n",
            "5.25\n"
          ]
        }
      ]
    },
    {
      "cell_type": "code",
      "source": [
        "a=input()\n",
        "b=[]\n",
        "for i in a:\n",
        "  b.append(i)\n",
        "  print(i)"
      ],
      "metadata": {
        "colab": {
          "base_uri": "https://localhost:8080/"
        },
        "id": "btA89AtHypdq",
        "outputId": "028a67eb-e1cc-41da-f211-8a50665b7fc2"
      },
      "execution_count": null,
      "outputs": [
        {
          "output_type": "stream",
          "name": "stdout",
          "text": [
            "hyyh\n",
            "h\n",
            "y\n",
            "y\n",
            "h\n"
          ]
        }
      ]
    },
    {
      "cell_type": "code",
      "source": [
        "a=input()\n",
        "print(','.join(a))"
      ],
      "metadata": {
        "colab": {
          "base_uri": "https://localhost:8080/"
        },
        "id": "GZHmuUnW64ms",
        "outputId": "d0cbe529-8be9-4ef5-d8b7-0b7cf165e992"
      },
      "execution_count": null,
      "outputs": [
        {
          "output_type": "stream",
          "name": "stdout",
          "text": [
            "jjkds\n",
            "j,j,k,d,s\n"
          ]
        }
      ]
    },
    {
      "cell_type": "code",
      "source": [
        "a=input().split(' ')\n",
        "b=list(map(int,a))\n",
        "print(min(*b))"
      ],
      "metadata": {
        "colab": {
          "base_uri": "https://localhost:8080/"
        },
        "id": "VQENgYLsW2qQ",
        "outputId": "fea7bffe-8aed-4126-c229-810f3ef1432b"
      },
      "execution_count": null,
      "outputs": [
        {
          "output_type": "stream",
          "name": "stdout",
          "text": [
            "23 1\n",
            "23\n"
          ]
        }
      ]
    },
    {
      "cell_type": "code",
      "source": [
        "import math\n",
        "a=int(input())\n",
        "b=int(input())\n",
        "c=int(input())\n",
        "k=(b*b)-(4*a*c)\n",
        "m=math.sqrt(abs(k))\n",
        "x1=(-b-m)/(2*a)\n",
        "x2=(-b+m)/(2*a)\n",
        "print(\"%0.2f\"%x1)\n",
        "print(\"%0.2f\"%x2)"
      ],
      "metadata": {
        "colab": {
          "base_uri": "https://localhost:8080/"
        },
        "id": "ZkqilYSZYNa2",
        "outputId": "2e6f012d-78e0-49ea-879a-4b3a7e04fa60"
      },
      "execution_count": null,
      "outputs": [
        {
          "output_type": "stream",
          "name": "stdout",
          "text": [
            "-1\n",
            "2\n",
            "-9\n",
            "3.83\n",
            "-1.83\n"
          ]
        }
      ]
    },
    {
      "cell_type": "code",
      "source": [
        "a=int(input())\n",
        "if a<0:\n",
        "  print('Error')\n",
        "else:\n",
        "  if a%4==0 and a%400==0 or a%100==0:\n",
        "    print(\"Y\")\n",
        "  else:\n",
        "    print(\"N\")"
      ],
      "metadata": {
        "colab": {
          "base_uri": "https://localhost:8080/"
        },
        "id": "ygbKGfo-0_hZ",
        "outputId": "1d876518-54e1-4d77-ae53-ba3bd4a96c7b"
      },
      "execution_count": 15,
      "outputs": [
        {
          "output_type": "stream",
          "name": "stdout",
          "text": [
            "2020\n",
            "N\n"
          ]
        }
      ]
    },
    {
      "cell_type": "code",
      "source": [
        "a=int(input())\n",
        "if a%400==0:\n",
        "  print('Y')\n",
        "elif a%100==0:\n",
        "  print('N')\n",
        "elif a%4==0:\n",
        "  print('Y')\n",
        "else:\n",
        "  print('N')"
      ],
      "metadata": {
        "colab": {
          "base_uri": "https://localhost:8080/"
        },
        "id": "Xo73maP_4xTM",
        "outputId": "976b2c76-c6bc-4a8d-945d-84ff483eeb09"
      },
      "execution_count": 27,
      "outputs": [
        {
          "output_type": "stream",
          "name": "stdout",
          "text": [
            "2000\n",
            "Y\n"
          ]
        }
      ]
    },
    {
      "cell_type": "code",
      "source": [
        "a=int(input())\n",
        "for i in range(1,a+1):\n",
        "  if i%2==0:\n",
        "    print(i)\n",
        "    i+=1"
      ],
      "metadata": {
        "colab": {
          "base_uri": "https://localhost:8080/"
        },
        "id": "TDwFWEum-1aE",
        "outputId": "bb7785ae-72c1-46f5-96d3-da91c5e40eb7"
      },
      "execution_count": 31,
      "outputs": [
        {
          "output_type": "stream",
          "name": "stdout",
          "text": [
            "10\n",
            "2\n",
            "4\n",
            "6\n",
            "8\n",
            "10\n"
          ]
        }
      ]
    },
    {
      "cell_type": "code",
      "source": [
        "a=int(input())\n",
        "b=int(input())\n",
        "c=int(input())\n",
        "print(max(a,b,c))"
      ],
      "metadata": {
        "colab": {
          "base_uri": "https://localhost:8080/"
        },
        "id": "-Qm1skSV_5Ma",
        "outputId": "28d15406-879b-4116-b6c8-81aa8d4256e1"
      },
      "execution_count": 32,
      "outputs": [
        {
          "output_type": "stream",
          "name": "stdout",
          "text": [
            "2\n",
            "4\n",
            "6\n",
            "6\n"
          ]
        }
      ]
    },
    {
      "cell_type": "code",
      "source": [
        "a=int(input())\n",
        "sum=0\n",
        "for i in range(0,a+1):\n",
        "  sum+=i\n",
        "  i=i+1\n",
        "print(sum)"
      ],
      "metadata": {
        "colab": {
          "base_uri": "https://localhost:8080/"
        },
        "id": "uKrcdu4O_6Qz",
        "outputId": "8a182505-cac6-4be4-abbc-8a5bf67b3c71"
      },
      "execution_count": 46,
      "outputs": [
        {
          "output_type": "stream",
          "name": "stdout",
          "text": [
            "10\n",
            "55\n"
          ]
        }
      ]
    },
    {
      "cell_type": "code",
      "source": [
        "a=input().split(' ')\n",
        "b=list(map(float,a))\n",
        "si=0\n",
        "p=b[0]\n",
        "t=b[1]\n",
        "r=b[2]\n",
        "si=(p*t*r)/100\n",
        "print('%0.2f'% si)"
      ],
      "metadata": {
        "colab": {
          "base_uri": "https://localhost:8080/"
        },
        "id": "h5wFAa6QFbVE",
        "outputId": "a1539f0a-3e86-4b75-97a9-f61bfd074fdc"
      },
      "execution_count": 53,
      "outputs": [
        {
          "output_type": "stream",
          "name": "stdout",
          "text": [
            "2.5 2.9 12\n",
            "0.87\n"
          ]
        }
      ]
    },
    {
      "cell_type": "code",
      "source": [
        "a=input()\n",
        "b=[]\n",
        "for i in range(0,len(a)):\n",
        "  i=len(a)\n",
        "    b.append(i)\n",
        "    i=i-1\n",
        "    print(*b)"
      ],
      "metadata": {
        "colab": {
          "base_uri": "https://localhost:8080/"
        },
        "id": "Bvljl4rUMN5n",
        "outputId": "bb39eff4-9440-49fe-f5db-b63eaffcb35d"
      },
      "execution_count": 62,
      "outputs": [
        {
          "output_type": "stream",
          "name": "stdout",
          "text": [
            "guvi\n",
            "3 3 3 3\n"
          ]
        }
      ]
    },
    {
      "cell_type": "code",
      "source": [
        "a=int(input())\n",
        "for i in range(0,a+1):\n",
        "    i=a+1\n",
        "    print(i)\n",
        "    i=i-1"
      ],
      "metadata": {
        "colab": {
          "base_uri": "https://localhost:8080/"
        },
        "id": "yncSrVjxO-7J",
        "outputId": "1bf894f5-cfa2-4e66-d900-20f817442908"
      },
      "execution_count": 63,
      "outputs": [
        {
          "output_type": "stream",
          "name": "stdout",
          "text": [
            "10\n",
            "11\n",
            "11\n",
            "11\n",
            "11\n",
            "11\n",
            "11\n",
            "11\n",
            "11\n",
            "11\n",
            "11\n",
            "11\n"
          ]
        }
      ]
    }
  ]
}